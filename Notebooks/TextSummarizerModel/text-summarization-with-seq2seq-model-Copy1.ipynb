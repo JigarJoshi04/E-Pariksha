{
 "cells": [
  {
   "cell_type": "code",
   "execution_count": 3,
   "metadata": {
    "_cell_guid": "b1076dfc-b9ad-4769-8c92-a6c4dae69d19",
    "_uuid": "8f2839f25d086af736a60e9eeb907d3b93b6e0e5"
   },
   "outputs": [],
   "source": [
    "# This Python 3 environment comes with many helpful analytics libraries installed\n",
    "# It is defined by the kaggle/python docker image: https://github.com/kaggle/docker-python\n",
    "# For example, here's several helpful packages to load in \n",
    "\n",
    "import numpy as np # linear algebra\n",
    "import pandas as pd # data processing, CSV file I/O (e.g. pd.read_csv)\n",
    "\n",
    "# Input data files are available in the \"../input/\" directory.\n",
    "# For example, running this (by clicking run or pressing Shift+Enter) will list all files under the input directory\n",
    "\n",
    "import os\n",
    "# for dirname, _, filenames in os.walk('/kaggle/input'):\n",
    "#     for filename in filenames:\n",
    "#         print(os.path.join(dirname, filename))\n",
    "\n",
    "# Any results you write to the current directory are saved as output."
   ]
  },
  {
   "cell_type": "code",
   "execution_count": 4,
   "metadata": {},
   "outputs": [],
   "source": [
    "import tensorflow as tf\n",
    "new_model = tf.keras.models.load_model('model02.sav')"
   ]
  },
  {
   "cell_type": "code",
   "execution_count": 5,
   "metadata": {},
   "outputs": [],
   "source": [
    "import re\n",
    "\n",
    "#Removes non-alphabetic characters:\n",
    "def text_strip(column):\n",
    "    for row in column:\n",
    "        \n",
    "        #ORDER OF REGEX IS VERY VERY IMPORTANT!!!!!!\n",
    "        \n",
    "        row=re.sub(\"(\\\\t)\", ' ', str(row)).lower() #remove escape charecters\n",
    "        row=re.sub(\"(\\\\r)\", ' ', str(row)).lower() \n",
    "        row=re.sub(\"(\\\\n)\", ' ', str(row)).lower()\n",
    "        \n",
    "        row=re.sub(\"(__+)\", ' ', str(row)).lower()   #remove _ if it occors more than one time consecutively\n",
    "        row=re.sub(\"(--+)\", ' ', str(row)).lower()   #remove - if it occors more than one time consecutively\n",
    "        row=re.sub(\"(~~+)\", ' ', str(row)).lower()   #remove ~ if it occors more than one time consecutively\n",
    "        row=re.sub(\"(\\+\\++)\", ' ', str(row)).lower()   #remove + if it occors more than one time consecutively\n",
    "        row=re.sub(\"(\\.\\.+)\", ' ', str(row)).lower()   #remove . if it occors more than one time consecutively\n",
    "        \n",
    "        row=re.sub(r\"[<>()|&©ø\\[\\]\\'\\\",;?~*!]\", ' ', str(row)).lower() #remove <>()|&©ø\"',;?~*!\n",
    "        \n",
    "        row=re.sub(\"(mailto:)\", ' ', str(row)).lower() #remove mailto:\n",
    "        row=re.sub(r\"(\\\\x9\\d)\", ' ', str(row)).lower() #remove \\x9* in text\n",
    "        row=re.sub(\"([iI][nN][cC]\\d+)\", 'INC_NUM', str(row)).lower() #replace INC nums to INC_NUM\n",
    "        row=re.sub(\"([cC][mM]\\d+)|([cC][hH][gG]\\d+)\", 'CM_NUM', str(row)).lower() #replace CM# and CHG# to CM_NUM\n",
    "        \n",
    "        \n",
    "        row=re.sub(\"(\\.\\s+)\", ' ', str(row)).lower() #remove full stop at end of words(not between)\n",
    "        row=re.sub(\"(\\-\\s+)\", ' ', str(row)).lower() #remove - at end of words(not between)\n",
    "        row=re.sub(\"(\\:\\s+)\", ' ', str(row)).lower() #remove : at end of words(not between)\n",
    "        \n",
    "        row=re.sub(\"(\\s+.\\s+)\", ' ', str(row)).lower() #remove any single charecters hanging between 2 spaces\n",
    "        \n",
    "        #Replace any url as such https://abc.xyz.net/browse/sdf-5327 ====> abc.xyz.net\n",
    "        try:\n",
    "            url = re.search(r'((https*:\\/*)([^\\/\\s]+))(.[^\\s]+)', str(row))\n",
    "            repl_url = url.group(3)\n",
    "            row = re.sub(r'((https*:\\/*)([^\\/\\s]+))(.[^\\s]+)',repl_url, str(row))\n",
    "        except:\n",
    "            pass #there might be emails with no url in them\n",
    "        \n",
    "\n",
    "        \n",
    "        row = re.sub(\"(\\s+)\",' ',str(row)).lower() #remove multiple spaces\n",
    "        \n",
    "        #Should always be last\n",
    "        row=re.sub(\"(\\s+.\\s+)\", ' ', str(row)).lower() #remove any single charecters hanging between 2 spaces\n",
    "\n",
    "        \n",
    "        \n",
    "        yield row\n",
    "\n",
    "\n"
   ]
  },
  {
   "cell_type": "code",
   "execution_count": 54,
   "metadata": {},
   "outputs": [],
   "source": [
    "pre = pd.DataFrame()\n",
    "pre = pre.reindex(columns = ['text'])\n",
    "pre['text']= [\"I am Jigar Joshi, Third year computer science engineering student at an engineering college Mumbai. I am staying in Nashik and doing my current internship at vesatogo solutions\"]\n",
    "\n",
    "brief_cleaning1 = text_strip(pre['text'])\n",
    "# brief_cleaning2 = text_strip(pre['summary'])"
   ]
  },
  {
   "cell_type": "code",
   "execution_count": 55,
   "metadata": {},
   "outputs": [
    {
     "name": "stdout",
     "output_type": "stream",
     "text": [
      "Time to clean up everything: 0.0 mins\n"
     ]
    }
   ],
   "source": [
    "from time import time\n",
    "import spacy\n",
    "nlp = spacy.load('en', disable=['ner', 'parser']) # disabling Named Entity Recognition for speed\n",
    "\n",
    "#Taking advantage of spaCy .pipe() method to speed-up the cleaning process:\n",
    "#If data loss seems to be happening(i.e len(text) = 50 instead of 75 etc etc) in this cell , decrease the batch_size parametre \n",
    "\n",
    "t = time()\n",
    "\n",
    "#Batch the data points into 5000 and run on all cores for faster preprocessing\n",
    "text = [str(doc) for doc in nlp.pipe(brief_cleaning1, batch_size=5000, n_threads=-1)]\n",
    "\n",
    "#Takes 7-8 mins\n",
    "print('Time to clean up everything: {} mins'.format(round((time() - t) / 60, 2)))"
   ]
  },
  {
   "cell_type": "code",
   "execution_count": 56,
   "metadata": {},
   "outputs": [],
   "source": [
    "# #Taking advantage of spaCy .pipe() method to speed-up the cleaning process:\n",
    "\n",
    "\n",
    "# t = time()\n",
    "\n",
    "# #Batch the data points into 5000 and run on all cores for faster preprocessing\n",
    "# summary = ['_START_ '+ str(doc) + ' _END_' for doc in nlp.pipe(brief_cleaning2, batch_size=5000, n_threads=-1)]\n",
    "\n",
    "# #Takes 7-8 mins\n",
    "# print('Time to clean up everything: {} mins'.format(round((time() - t) / 60, 2)))"
   ]
  },
  {
   "cell_type": "code",
   "execution_count": 57,
   "metadata": {},
   "outputs": [
    {
     "data": {
      "text/plain": [
       "'i am jigar joshi third year computer science engineering student at an engineering college mumbai am staying in nashik and doing my current internship at vesatogo solutions'"
      ]
     },
     "execution_count": 57,
     "metadata": {},
     "output_type": "execute_result"
    }
   ],
   "source": [
    "text[0]"
   ]
  },
  {
   "cell_type": "code",
   "execution_count": 58,
   "metadata": {},
   "outputs": [],
   "source": [
    "# summary[0]"
   ]
  },
  {
   "cell_type": "code",
   "execution_count": 59,
   "metadata": {},
   "outputs": [],
   "source": [
    "pre['cleaned_text'] = pd.Series(text)\n",
    "# pre['cleaned_summary'] = pd.Series(summary)"
   ]
  },
  {
   "cell_type": "code",
   "execution_count": 60,
   "metadata": {},
   "outputs": [],
   "source": [
    "text_count = []\n",
    "summary_count = []"
   ]
  },
  {
   "cell_type": "code",
   "execution_count": 61,
   "metadata": {},
   "outputs": [],
   "source": [
    "for sent in pre['cleaned_text']:\n",
    "    text_count.append(len(sent.split()))\n",
    "# for sent in pre['cleaned_summary']:\n",
    "#     summary_count.append(len(sent.split()))"
   ]
  },
  {
   "cell_type": "code",
   "execution_count": 62,
   "metadata": {},
   "outputs": [],
   "source": [
    "graph_df= pd.DataFrame()\n",
    "graph_df['text']=text_count\n",
    "# graph_df['summary']=summary_count"
   ]
  },
  {
   "cell_type": "code",
   "execution_count": 63,
   "metadata": {},
   "outputs": [
    {
     "data": {
      "image/png": "[encoded data removed]",
      "text/plain": [
       "<Figure size 432x288 with 1 Axes>"
      ]
     },
     "metadata": {
      "needs_background": "light"
     },
     "output_type": "display_data"
    }
   ],
   "source": [
    "import matplotlib.pyplot as plt\n",
    "\n",
    "graph_df.hist(bins = 5)\n",
    "plt.show()"
   ]
  },
  {
   "cell_type": "code",
   "execution_count": 27,
   "metadata": {},
   "outputs": [],
   "source": [
    "#Check how much % of summary have 0-15 words\n",
    "# cnt=0\n",
    "# for i in pre['cleaned_summary']:\n",
    "#     if(len(i.split())<=15):\n",
    "#         cnt=cnt+1\n",
    "# print(cnt/len(pre['cleaned_summary']))"
   ]
  },
  {
   "cell_type": "code",
   "execution_count": 28,
   "metadata": {},
   "outputs": [],
   "source": [
    "#Check how much % of text have 0-70 words\n",
    "# cnt=0\n",
    "# for i in pre['cleaned_text']:\n",
    "#     if(len(i.split())<=100):\n",
    "#         cnt=cnt+1\n",
    "# print(cnt/len(pre['cleaned_text']))"
   ]
  },
  {
   "cell_type": "code",
   "execution_count": 32,
   "metadata": {},
   "outputs": [],
   "source": [
    "#Model to summarize the text between 0-15 words for Summary and 0-100 words for Text\n",
    "max_text_len=100\n",
    "# max_summary_len=15"
   ]
  },
  {
   "cell_type": "code",
   "execution_count": 33,
   "metadata": {},
   "outputs": [],
   "source": [
    "#Select the Summaries and Text between max len defined above\n",
    "\n",
    "cleaned_text =np.array(pre['cleaned_text'])\n",
    "# cleaned_summary=np.array(pre['cleaned_summary'])\n",
    "\n",
    "short_text=[]\n",
    "# short_summary=[]\n",
    "\n",
    "for i in range(len(cleaned_text)):\n",
    "    if(len(cleaned_text[i].split())<=max_text_len):\n",
    "        short_text.append(cleaned_text[i])\n",
    "#         short_summary.append(cleaned_summary[i])\n",
    "        \n",
    "post_pre=pd.DataFrame({'text':short_text})"
   ]
  },
  {
   "cell_type": "code",
   "execution_count": 34,
   "metadata": {},
   "outputs": [
    {
     "data": {
      "text/html": [
       "<div>\n",
       "<style scoped>\n",
       "    .dataframe tbody tr th:only-of-type {\n",
       "        vertical-align: middle;\n",
       "    }\n",
       "\n",
       "    .dataframe tbody tr th {\n",
       "        vertical-align: top;\n",
       "    }\n",
       "\n",
       "    .dataframe thead th {\n",
       "        text-align: right;\n",
       "    }\n",
       "</style>\n",
       "<table border=\"1\" class=\"dataframe\">\n",
       "  <thead>\n",
       "    <tr style=\"text-align: right;\">\n",
       "      <th></th>\n",
       "      <th>text</th>\n",
       "    </tr>\n",
       "  </thead>\n",
       "  <tbody>\n",
       "    <tr>\n",
       "      <th>0</th>\n",
       "      <td>i am jigar joshi third year computer science e...</td>\n",
       "    </tr>\n",
       "  </tbody>\n",
       "</table>\n",
       "</div>"
      ],
      "text/plain": [
       "                                                text\n",
       "0  i am jigar joshi third year computer science e..."
      ]
     },
     "execution_count": 34,
     "metadata": {},
     "output_type": "execute_result"
    }
   ],
   "source": [
    "post_pre.head(2)"
   ]
  },
  {
   "cell_type": "code",
   "execution_count": 27,
   "metadata": {},
   "outputs": [],
   "source": [
    "#Add sostok and eostok at \n",
    "# post_pre['summary'] = post_pre['summary'].apply(lambda x : 'sostok '+ x + ' eostok')\n"
   ]
  },
  {
   "cell_type": "code",
   "execution_count": 28,
   "metadata": {},
   "outputs": [
    {
     "data": {
      "text/html": [
       "<div>\n",
       "<style scoped>\n",
       "    .dataframe tbody tr th:only-of-type {\n",
       "        vertical-align: middle;\n",
       "    }\n",
       "\n",
       "    .dataframe tbody tr th {\n",
       "        vertical-align: top;\n",
       "    }\n",
       "\n",
       "    .dataframe thead th {\n",
       "        text-align: right;\n",
       "    }\n",
       "</style>\n",
       "<table border=\"1\" class=\"dataframe\">\n",
       "  <thead>\n",
       "    <tr style=\"text-align: right;\">\n",
       "      <th></th>\n",
       "      <th>text</th>\n",
       "      <th>summary</th>\n",
       "    </tr>\n",
       "  </thead>\n",
       "  <tbody>\n",
       "    <tr>\n",
       "      <th>0</th>\n",
       "      <td>saurav kant an alumnus of upgrad and iiit-b pg...</td>\n",
       "      <td>sostok _START_ upgrad learner switches to care...</td>\n",
       "    </tr>\n",
       "    <tr>\n",
       "      <th>1</th>\n",
       "      <td>kunal shah credit card bill payment platform c...</td>\n",
       "      <td>sostok _START_ delhi techie wins free food fro...</td>\n",
       "    </tr>\n",
       "  </tbody>\n",
       "</table>\n",
       "</div>"
      ],
      "text/plain": [
       "                                                text  \\\n",
       "0  saurav kant an alumnus of upgrad and iiit-b pg...   \n",
       "1  kunal shah credit card bill payment platform c...   \n",
       "\n",
       "                                             summary  \n",
       "0  sostok _START_ upgrad learner switches to care...  \n",
       "1  sostok _START_ delhi techie wins free food fro...  "
      ]
     },
     "execution_count": 28,
     "metadata": {},
     "output_type": "execute_result"
    }
   ],
   "source": [
    "# post_pre.head(2)"
   ]
  },
  {
   "cell_type": "markdown",
   "metadata": {},
   "source": [
    "**SEQ2SEQ MODEL BUILDING **"
   ]
  },
  {
   "cell_type": "markdown",
   "metadata": {},
   "source": [
    "Split the data to TRAIN and VALIDATION sets"
   ]
  },
  {
   "cell_type": "code",
   "execution_count": 64,
   "metadata": {},
   "outputs": [],
   "source": [
    "x_tr = np.array(pre['text'])"
   ]
  },
  {
   "cell_type": "raw",
   "metadata": {},
   "source": [
    "#Lets tokenize the text to get the vocab count , you can use Spacy here also\n",
    "\n",
    "from keras.preprocessing.text import Tokenizer \n",
    "from keras.preprocessing.sequence import pad_sequences\n",
    "\n",
    "#prepare a tokenizer for reviews on training data\n",
    "x_tokenizer = Tokenizer() \n",
    "x_tokenizer.fit_on_texts(list(x_tr))"
   ]
  },
  {
   "cell_type": "markdown",
   "metadata": {},
   "source": [
    "**RARE WORD ANALYSIS FOR X i.e 'text'**\n",
    "* tot_cnt gives the size of vocabulary (which means every unique words in the text)\n",
    "\n",
    "* cnt gives me the no. of rare words whose count falls below threshold\n",
    "\n",
    "* tot_cnt - cnt gives me the top most common words"
   ]
  },
  {
   "cell_type": "raw",
   "metadata": {},
   "source": [
    "thresh=4\n",
    "\n",
    "cnt=0\n",
    "tot_cnt=0\n",
    "freq=0\n",
    "tot_freq=0\n",
    "\n",
    "for key,value in x_tokenizer.word_counts.items():\n",
    "    tot_cnt=tot_cnt+1\n",
    "    tot_freq=tot_freq+value\n",
    "    if(value<thresh):\n",
    "        cnt=cnt+1\n",
    "        freq=freq+value\n",
    "    \n",
    "print(\"% of rare words in vocabulary:\",(cnt/tot_cnt)*100)\n",
    "print(\"Total Coverage of rare words:\",(freq/tot_freq)*100)"
   ]
  },
  {
   "cell_type": "raw",
   "metadata": {},
   "source": [
    "\n",
    "#prepare a tokenizer for reviews on training data\n",
    "x_tokenizer = Tokenizer(num_words=tot_cnt-cnt) \n",
    "x_tokenizer.fit_on_texts(list(x_tr))\n",
    "\n",
    "#convert text sequences into integer sequences (i.e one-hot encodeing all the words)\n",
    "x_tr_seq    =   x_tokenizer.texts_to_sequences(x_tr) \n",
    "x_val_seq   =   x_tokenizer.texts_to_sequences(x_val)\n",
    "\n",
    "#padding zero upto maximum length\n",
    "x_tr    =   pad_sequences(x_tr_seq,  maxlen=max_text_len, padding='post')\n",
    "x_val   =   pad_sequences(x_val_seq, maxlen=max_text_len, padding='post')\n",
    "\n",
    "#size of vocabulary ( +1 for padding token)\n",
    "x_voc   =  x_tokenizer.num_words + 1\n",
    "\n",
    "print(\"Size of vocabulary in X = {}\".format(x_voc))"
   ]
  },
  {
   "cell_type": "markdown",
   "metadata": {},
   "source": [
    "**RARE WORD ANALYSIS FOR Y i.e 'summary'**\n",
    "* tot_cnt gives the size of vocabulary (which means every unique words in the text)\n",
    "\n",
    "* cnt gives me the no. of rare words whose count falls below threshold\n",
    "\n",
    "* tot_cnt - cnt gives me the top most common words"
   ]
  },
  {
   "cell_type": "code",
   "execution_count": 35,
   "metadata": {},
   "outputs": [],
   "source": [
    "#prepare a tokenizer for reviews on training data\n",
    "y_tokenizer = Tokenizer()   \n",
    "y_tokenizer.fit_on_texts(list(y_tr))"
   ]
  },
  {
   "cell_type": "code",
   "execution_count": 36,
   "metadata": {},
   "outputs": [
    {
     "name": "stdout",
     "output_type": "stream",
     "text": [
      "% of rare words in vocabulary: 66.34503603813067\n",
      "Total Coverage of rare words: 3.566630093901333\n"
     ]
    }
   ],
   "source": [
    "thresh=6\n",
    "\n",
    "cnt=0\n",
    "tot_cnt=0\n",
    "freq=0\n",
    "tot_freq=0\n",
    "\n",
    "for key,value in y_tokenizer.word_counts.items():\n",
    "    tot_cnt=tot_cnt+1\n",
    "    tot_freq=tot_freq+value\n",
    "    if(value<thresh):\n",
    "        cnt=cnt+1\n",
    "        freq=freq+value\n",
    "    \n",
    "print(\"% of rare words in vocabulary:\",(cnt/tot_cnt)*100)\n",
    "print(\"Total Coverage of rare words:\",(freq/tot_freq)*100)"
   ]
  },
  {
   "cell_type": "code",
   "execution_count": 37,
   "metadata": {},
   "outputs": [
    {
     "name": "stdout",
     "output_type": "stream",
     "text": [
      "Size of vocabulary in Y = 11581\n"
     ]
    }
   ],
   "source": [
    "#prepare a tokenizer for reviews on training data\n",
    "y_tokenizer = Tokenizer(num_words=tot_cnt-cnt) \n",
    "y_tokenizer.fit_on_texts(list(y_tr))\n",
    "\n",
    "#convert text sequences into integer sequences (i.e one hot encode the text in Y)\n",
    "y_tr_seq    =   y_tokenizer.texts_to_sequences(y_tr) \n",
    "y_val_seq   =   y_tokenizer.texts_to_sequences(y_val) \n",
    "\n",
    "#padding zero upto maximum length\n",
    "y_tr    =   pad_sequences(y_tr_seq, maxlen=max_summary_len, padding='post')\n",
    "y_val   =   pad_sequences(y_val_seq, maxlen=max_summary_len, padding='post')\n",
    "\n",
    "#size of vocabulary\n",
    "y_voc  =   y_tokenizer.num_words +1\n",
    "print(\"Size of vocabulary in Y = {}\".format(y_voc))"
   ]
  },
  {
   "cell_type": "markdown",
   "metadata": {},
   "source": [
    "We will now remove \"Summary\" i.e Y (both train and val) which has only _START_ and _END_"
   ]
  },
  {
   "cell_type": "code",
   "execution_count": 38,
   "metadata": {},
   "outputs": [],
   "source": [
    "ind=[]\n",
    "for i in range(len(y_tr)):\n",
    "    cnt=0\n",
    "    for j in y_tr[i]:\n",
    "        if j!=0:\n",
    "            cnt=cnt+1\n",
    "    if(cnt==2):\n",
    "        ind.append(i)\n",
    "\n",
    "y_tr=np.delete(y_tr,ind, axis=0)\n",
    "x_tr=np.delete(x_tr,ind, axis=0)"
   ]
  },
  {
   "cell_type": "code",
   "execution_count": 39,
   "metadata": {},
   "outputs": [],
   "source": [
    "ind=[]\n",
    "for i in range(len(y_val)):\n",
    "    cnt=0\n",
    "    for j in y_val[i]:\n",
    "        if j!=0:\n",
    "            cnt=cnt+1\n",
    "    if(cnt==2):\n",
    "        ind.append(i)\n",
    "\n",
    "y_val=np.delete(y_val,ind, axis=0)\n",
    "x_val=np.delete(x_val,ind, axis=0)"
   ]
  },
  {
   "cell_type": "code",
   "execution_count": 42,
   "metadata": {},
   "outputs": [
    {
     "name": "stdout",
     "output_type": "stream",
     "text": [
      "Collecting bs4\n",
      "  Downloading bs4-0.0.1.tar.gz (1.1 kB)\n",
      "Collecting beautifulsoup4\n",
      "  Downloading beautifulsoup4-4.9.3-py3-none-any.whl (115 kB)\n",
      "\u001b[K     |████████████████████████████████| 115 kB 1.3 MB/s eta 0:00:01\n",
      "\u001b[?25hCollecting soupsieve>1.2; python_version >= \"3.0\"\n",
      "  Downloading soupsieve-2.0.1-py3-none-any.whl (32 kB)\n",
      "Building wheels for collected packages: bs4\n",
      "  Building wheel for bs4 (setup.py) ... \u001b[?25ldone\n",
      "\u001b[?25h  Created wheel for bs4: filename=bs4-0.0.1-py3-none-any.whl size=1273 sha256=be6f5b4a24dead04a7ea929295c82b6bdc8abc3a682e3123634de6e4e27bca61\n",
      "  Stored in directory: /home/vltp005/.cache/pip/wheels/75/78/21/68b124549c9bdc94f822c02fb9aa3578a669843f9767776bca\n",
      "Successfully built bs4\n",
      "Installing collected packages: soupsieve, beautifulsoup4, bs4\n",
      "Successfully installed beautifulsoup4-4.9.3 bs4-0.0.1 soupsieve-2.0.1\n",
      "Note: you may need to restart the kernel to use updated packages.\n"
     ]
    }
   ],
   "source": [
    "pip install bs4"
   ]
  },
  {
   "cell_type": "code",
   "execution_count": 70,
   "metadata": {},
   "outputs": [
    {
     "ename": "NameError",
     "evalue": "name 'x_voc' is not defined",
     "output_type": "error",
     "traceback": [
      "\u001b[0;31m---------------------------------------------------------------------------\u001b[0m",
      "\u001b[0;31mNameError\u001b[0m                                 Traceback (most recent call last)",
      "\u001b[0;32m<ipython-input-70-ff851cfa78c5>\u001b[0m in \u001b[0;36m<module>\u001b[0;34m\u001b[0m\n\u001b[1;32m     16\u001b[0m \u001b[0mwarnings\u001b[0m\u001b[0;34m.\u001b[0m\u001b[0mfilterwarnings\u001b[0m\u001b[0;34m(\u001b[0m\u001b[0;34m\"ignore\"\u001b[0m\u001b[0;34m)\u001b[0m\u001b[0;34m\u001b[0m\u001b[0;34m\u001b[0m\u001b[0m\n\u001b[1;32m     17\u001b[0m \u001b[0;34m\u001b[0m\u001b[0m\n\u001b[0;32m---> 18\u001b[0;31m \u001b[0mprint\u001b[0m\u001b[0;34m(\u001b[0m\u001b[0;34m\"Size of vocabulary from the w2v model = {}\"\u001b[0m\u001b[0;34m.\u001b[0m\u001b[0mformat\u001b[0m\u001b[0;34m(\u001b[0m\u001b[0mx_voc\u001b[0m\u001b[0;34m)\u001b[0m\u001b[0;34m)\u001b[0m\u001b[0;34m\u001b[0m\u001b[0;34m\u001b[0m\u001b[0m\n\u001b[0m\u001b[1;32m     19\u001b[0m \u001b[0;34m\u001b[0m\u001b[0m\n\u001b[1;32m     20\u001b[0m \u001b[0mK\u001b[0m\u001b[0;34m.\u001b[0m\u001b[0mclear_session\u001b[0m\u001b[0;34m(\u001b[0m\u001b[0;34m)\u001b[0m\u001b[0;34m\u001b[0m\u001b[0;34m\u001b[0m\u001b[0m\n",
      "\u001b[0;31mNameError\u001b[0m: name 'x_voc' is not defined"
     ]
    }
   ],
   "source": [
    "from keras import backend as K \n",
    "import gensim\n",
    "from numpy import *\n",
    "import numpy as np\n",
    "import pandas as pd \n",
    "import re\n",
    "from bs4 import BeautifulSoup\n",
    "from keras.preprocessing.text import Tokenizer \n",
    "from keras.preprocessing.sequence import pad_sequences\n",
    "from nltk.corpus import stopwords\n",
    "from tensorflow.keras.layers import Input, LSTM, Embedding, Dense, Concatenate, TimeDistributed\n",
    "from tensorflow.keras.models import Model\n",
    "from tensorflow.keras.callbacks import EarlyStopping\n",
    "import warnings\n",
    "pd.set_option(\"display.max_colwidth\", 200)\n",
    "warnings.filterwarnings(\"ignore\")\n",
    "\n",
    "print(\"Size of vocabulary from the w2v model = {}\".format(x_voc))\n",
    "\n",
    "K.clear_session()\n",
    "\n",
    "latent_dim = 300\n",
    "embedding_dim=200\n",
    "\n",
    "# Encoder\n",
    "encoder_inputs = Input(shape=(max_text_len,))\n",
    "\n",
    "#embedding layer\n",
    "enc_emb =  Embedding(x_voc, embedding_dim,trainable=True)(encoder_inputs)\n",
    "\n",
    "#encoder lstm 1\n",
    "encoder_lstm1 = LSTM(latent_dim,return_sequences=True,return_state=True,dropout=0.4,recurrent_dropout=0.4)\n",
    "encoder_output1, state_h1, state_c1 = encoder_lstm1(enc_emb)\n",
    "\n",
    "#encoder lstm 2\n",
    "encoder_lstm2 = LSTM(latent_dim,return_sequences=True,return_state=True,dropout=0.4,recurrent_dropout=0.4)\n",
    "encoder_output2, state_h2, state_c2 = encoder_lstm2(encoder_output1)\n",
    "\n",
    "#encoder lstm 3\n",
    "encoder_lstm3=LSTM(latent_dim, return_state=True, return_sequences=True,dropout=0.4,recurrent_dropout=0.4)\n",
    "encoder_outputs, state_h, state_c= encoder_lstm3(encoder_output2)\n",
    "\n",
    "# Set up the decoder, using `encoder_states` as initial state.\n",
    "decoder_inputs = Input(shape=(None,))\n",
    "\n",
    "#embedding layer\n",
    "dec_emb_layer = Embedding(y_voc, embedding_dim,trainable=True)\n",
    "dec_emb = dec_emb_layer(decoder_inputs)\n",
    "\n",
    "decoder_lstm = LSTM(latent_dim, return_sequences=True, return_state=True,dropout=0.4,recurrent_dropout=0.2)\n",
    "decoder_outputs,decoder_fwd_state, decoder_back_state = decoder_lstm(dec_emb,initial_state=[state_h, state_c])\n",
    "\n",
    "#dense layer\n",
    "decoder_dense =  TimeDistributed(Dense(y_voc, activation='softmax'))\n",
    "decoder_outputs = decoder_dense(decoder_outputs)\n",
    "\n",
    "# Define the model \n",
    "model = Model([encoder_inputs, decoder_inputs], decoder_outputs)\n",
    "\n",
    "model.summary()\n"
   ]
  },
  {
   "cell_type": "code",
   "execution_count": 44,
   "metadata": {},
   "outputs": [],
   "source": [
    "model.compile(optimizer='rmsprop', loss='sparse_categorical_crossentropy')\n"
   ]
  },
  {
   "cell_type": "code",
   "execution_count": 45,
   "metadata": {},
   "outputs": [],
   "source": [
    "es = EarlyStopping(monitor='val_loss', mode='min', verbose=1,patience=2)\n"
   ]
  },
  {
   "cell_type": "markdown",
   "metadata": {},
   "source": [
    "**Start fitting the model with the data**"
   ]
  },
  {
   "cell_type": "code",
   "execution_count": 48,
   "metadata": {},
   "outputs": [
    {
     "name": "stdout",
     "output_type": "stream",
     "text": [
      "346/346 [==============================] - 1812s 5s/step - loss: 4.9838 - val_loss: 4.8089\n"
     ]
    }
   ],
   "source": [
    "history=model.fit([x_tr,y_tr[:,:-1]], y_tr.reshape(y_tr.shape[0],y_tr.shape[1], 1)[:,1:] ,epochs=1,callbacks=[es],batch_size=256, validation_data=([x_val,y_val[:,:-1]], y_val.reshape(y_val.shape[0],y_val.shape[1], 1)[:,1:]))\n"
   ]
  },
  {
   "cell_type": "code",
   "execution_count": 49,
   "metadata": {},
   "outputs": [
    {
     "name": "stdout",
     "output_type": "stream",
     "text": [
      "Epoch 1/7\n",
      "346/346 [==============================] - 1776s 5s/step - loss: 4.7514 - val_loss: 4.5774\n",
      "Epoch 2/7\n",
      "346/346 [==============================] - 1736s 5s/step - loss: 4.5039 - val_loss: 4.3736\n",
      "Epoch 3/7\n",
      "346/346 [==============================] - 1733s 5s/step - loss: 4.2795 - val_loss: 4.1831\n",
      "Epoch 4/7\n",
      "346/346 [==============================] - 1727s 5s/step - loss: 4.0919 - val_loss: 4.0419\n",
      "Epoch 5/7\n",
      "346/346 [==============================] - 1721s 5s/step - loss: 3.9412 - val_loss: 3.9258\n",
      "Epoch 6/7\n",
      "346/346 [==============================] - 1720s 5s/step - loss: 3.8097 - val_loss: 3.8282\n",
      "Epoch 7/7\n",
      "346/346 [==============================] - 1718s 5s/step - loss: 3.6972 - val_loss: 3.7548\n"
     ]
    }
   ],
   "source": [
    "history2=model.fit([x_tr,y_tr[:,:-1]], y_tr.reshape(y_tr.shape[0],y_tr.shape[1], 1)[:,1:] ,epochs=7,callbacks=[es],batch_size=256, validation_data=([x_val,y_val[:,:-1]], y_val.reshape(y_val.shape[0],y_val.shape[1], 1)[:,1:]))\n"
   ]
  },
  {
   "cell_type": "markdown",
   "metadata": {},
   "source": [
    "**Visualize the model learning**"
   ]
  },
  {
   "cell_type": "code",
   "execution_count": 56,
   "metadata": {},
   "outputs": [
    {
     "data": {
      "image/png": "[encoded data removed]",
      "text/plain": [
       "<Figure size 432x288 with 1 Axes>"
      ]
     },
     "metadata": {
      "needs_background": "light"
     },
     "output_type": "display_data"
    }
   ],
   "source": [
    "from matplotlib import pyplot\n",
    "pyplot.plot(history2.history['loss'], label='train')\n",
    "pyplot.plot(history2.history['val_loss'], label='test')\n",
    "pyplot.legend()\n",
    "pyplot.show()"
   ]
  },
  {
   "cell_type": "markdown",
   "metadata": {},
   "source": [
    "**Next, let’s build the dictionary to convert the index to word for target and source vocabulary:**"
   ]
  },
  {
   "cell_type": "code",
   "execution_count": 51,
   "metadata": {},
   "outputs": [],
   "source": [
    "reverse_target_word_index=y_tokenizer.index_word\n",
    "reverse_source_word_index=x_tokenizer.index_word\n",
    "target_word_index=y_tokenizer.word_index"
   ]
  },
  {
   "cell_type": "code",
   "execution_count": 68,
   "metadata": {},
   "outputs": [
    {
     "ename": "NameError",
     "evalue": "name 'encoder_inputs' is not defined",
     "output_type": "error",
     "traceback": [
      "\u001b[0;31m---------------------------------------------------------------------------\u001b[0m",
      "\u001b[0;31mNameError\u001b[0m                                 Traceback (most recent call last)",
      "\u001b[0;32m<ipython-input-68-37fe0fdb2eaa>\u001b[0m in \u001b[0;36m<module>\u001b[0;34m\u001b[0m\n\u001b[1;32m      1\u001b[0m \u001b[0;31m# Encode the input sequence to get the feature vector\u001b[0m\u001b[0;34m\u001b[0m\u001b[0;34m\u001b[0m\u001b[0;34m\u001b[0m\u001b[0m\n\u001b[0;32m----> 2\u001b[0;31m \u001b[0mencoder_model\u001b[0m \u001b[0;34m=\u001b[0m \u001b[0mnew_model\u001b[0m\u001b[0;34m(\u001b[0m\u001b[0minputs\u001b[0m\u001b[0;34m=\u001b[0m\u001b[0mencoder_inputs\u001b[0m\u001b[0;34m,\u001b[0m\u001b[0moutputs\u001b[0m\u001b[0;34m=\u001b[0m\u001b[0;34m[\u001b[0m\u001b[0mencoder_outputs\u001b[0m\u001b[0;34m,\u001b[0m \u001b[0mstate_h\u001b[0m\u001b[0;34m,\u001b[0m \u001b[0mstate_c\u001b[0m\u001b[0;34m]\u001b[0m\u001b[0;34m)\u001b[0m\u001b[0;34m\u001b[0m\u001b[0;34m\u001b[0m\u001b[0m\n\u001b[0m\u001b[1;32m      3\u001b[0m \u001b[0;34m\u001b[0m\u001b[0m\n\u001b[1;32m      4\u001b[0m \u001b[0;31m# Decoder setup\u001b[0m\u001b[0;34m\u001b[0m\u001b[0;34m\u001b[0m\u001b[0;34m\u001b[0m\u001b[0m\n\u001b[1;32m      5\u001b[0m \u001b[0;31m# Below tensors will hold the states of the previous time step\u001b[0m\u001b[0;34m\u001b[0m\u001b[0;34m\u001b[0m\u001b[0;34m\u001b[0m\u001b[0m\n",
      "\u001b[0;31mNameError\u001b[0m: name 'encoder_inputs' is not defined"
     ]
    }
   ],
   "source": [
    "# Encode the input sequence to get the feature vector\n",
    "encoder_model = new_model(inputs=encoder_inputs,outputs=[encoder_outputs, state_h, state_c])\n",
    "\n",
    "# Decoder setup\n",
    "# Below tensors will hold the states of the previous time step\n",
    "decoder_state_input_h = Input(shape=(latent_dim,))\n",
    "decoder_state_input_c = Input(shape=(latent_dim,))\n",
    "decoder_hidden_state_input = Input(shape=(max_text_len,latent_dim))\n",
    "\n",
    "# Get the embeddings of the decoder sequence\n",
    "dec_emb2= dec_emb_layer(decoder_inputs) \n",
    "# To predict the next word in the sequence, set the initial states to the states from the previous time step\n",
    "decoder_outputs2, state_h2, state_c2 = decoder_lstm(dec_emb2, initial_state=[decoder_state_input_h, decoder_state_input_c])\n",
    "\n",
    "# A dense softmax layer to generate prob dist. over the target vocabulary\n",
    "decoder_outputs2 = decoder_dense(decoder_outputs2) \n",
    "\n",
    "# Final decoder model\n",
    "decoder_model = Model(\n",
    "    [decoder_inputs] + [decoder_hidden_state_input,decoder_state_input_h, decoder_state_input_c],\n",
    "    [decoder_outputs2] + [state_h2, state_c2])"
   ]
  },
  {
   "cell_type": "markdown",
   "metadata": {},
   "source": [
    "**We are defining a function below which is the implementation of the inference process**"
   ]
  },
  {
   "cell_type": "code",
   "execution_count": 40,
   "metadata": {},
   "outputs": [],
   "source": [
    "def decode_sequence(input_seq):\n",
    "    # Encode the input as state vectors.\n",
    "    e_out, e_h, e_c = encoder_model.predict(input_seq)\n",
    "    \n",
    "    # Generate empty target sequence of length 1.\n",
    "    target_seq = np.zeros((1,1))\n",
    "    \n",
    "    # Populate the first word of target sequence with the start word.\n",
    "    target_seq[0, 0] = target_word_index['sostok']\n",
    "\n",
    "    stop_condition = False\n",
    "    decoded_sentence = ''\n",
    "    while not stop_condition:\n",
    "      \n",
    "        output_tokens, h, c = decoder_model.predict([target_seq] + [e_out, e_h, e_c])\n",
    "\n",
    "        # Sample a token\n",
    "        sampled_token_index = np.argmax(output_tokens[0, -1, :])\n",
    "        sampled_token = reverse_target_word_index[sampled_token_index]\n",
    "        \n",
    "        if(sampled_token!='eostok'):\n",
    "            decoded_sentence += ' '+sampled_token\n",
    "\n",
    "        # Exit condition: either hit max length or find stop word.\n",
    "        if (sampled_token == 'eostok'  or len(decoded_sentence.split()) >= (max_summary_len-1)):\n",
    "            stop_condition = True\n",
    "\n",
    "        # Update the target sequence (of length 1).\n",
    "        target_seq = np.zeros((1,1))\n",
    "        target_seq[0, 0] = sampled_token_index\n",
    "\n",
    "        # Update internal states\n",
    "        e_h, e_c = h, c\n",
    "\n",
    "    return decoded_sentence"
   ]
  },
  {
   "cell_type": "markdown",
   "metadata": {},
   "source": [
    "**Let us define the functions to convert an integer sequence to a word sequence for summary as well as the reviews:**\n"
   ]
  },
  {
   "cell_type": "code",
   "execution_count": 41,
   "metadata": {},
   "outputs": [],
   "source": [
    "def seq2summary(input_seq):\n",
    "    newString=''\n",
    "    for i in input_seq:\n",
    "        if((i!=0 and i!=target_word_index['sostok']) and i!=target_word_index['eostok']):\n",
    "            newString=newString+reverse_target_word_index[i]+' '\n",
    "    return newString\n",
    "\n",
    "def seq2text(input_seq):\n",
    "    newString=''\n",
    "    for i in input_seq:\n",
    "        if(i!=0):\n",
    "            newString=newString+reverse_source_word_index[i]+' '\n",
    "    return newString"
   ]
  },
  {
   "cell_type": "markdown",
   "metadata": {},
   "source": [
    "**Run the model over the data to see the results**"
   ]
  },
  {
   "cell_type": "code",
   "execution_count": 59,
   "metadata": {},
   "outputs": [
    {
     "name": "stdout",
     "output_type": "stream",
     "text": [
      "Review: pope francis on tuesday called for respect for each ethnic group in speech delivered in myanmar avoiding reference to the rohingya minority community as the nation works to restore peace the healing of wounds must be priority he said the pope myanmar visit comes amid the country military crackdown resulting in the rohingya refugee crisis \n",
      "Original summary: start pope avoids mention of rohingyas in key myanmar speech end \n",
      "Predicted summary:  start uk prez urges un to ban on brexit end\n",
      "\n",
      "\n",
      "Review: students of government school in uttar pradesh sambhal were seen washing dishes at in school premises on being approached basic shiksha adhikari virendra pratap singh said yes have also received this complaint from elsewhere we are inquiring and action will be taken against those found guilty \n",
      "Original summary: start students seen washing dishes at govt school in up end \n",
      "Predicted summary:  start up police station to get married to get married end\n",
      "\n",
      "\n",
      "Review: apple india profit surged by 140 in 2017 18 to crore compared to ã¢ââ¹373 crore in the previous fiscal the indian unit of the us based company posted 12 growth in revenue last fiscal at ã¢ââ¹13 crore apple share of the indian smartphone market dropped to 1 in the second quarter of 2018 according to counterpoint research \n",
      "Original summary: start apple india profit rises 140 to nearly ã¢ââ¹900 crore in fy18 end \n",
      "Predicted summary:  start apple ceo becomes world most valuable company end\n",
      "\n",
      "\n",
      "Review: uber has launched its electric scooter service in santa monica us at 1 to unlock and then 15 cents per minute to ride it comes after uber acquired the bike sharing startup jump for reported amount of 200 million uber said it is branding the scooters with jump for the sake of consistency for its other personal electric vehicle services \n",
      "Original summary: start uber launches electric scooter service in us at 1 per ride end \n",
      "Predicted summary:  start uber to buy uber to buy self driving cars in us end\n",
      "\n",
      "\n",
      "Review: around 80 people were injured in accidents related to kite flying during celebrations of makar sankranti in rajasthan jaipur officials said the victims included those who fell while flying kites and those injured by glass coated kite string officials added meanwhile around 100 birds were reported to be injured by between january 13 and 15 \n",
      "Original summary: start 80 people injured in flying related accidents in jaipur end \n",
      "Predicted summary:  start 2 dead as bus rams into truck in delhi end\n",
      "\n",
      "\n",
      "Review: uk entrepreneur richard browning has announced the launch of his startup gravity which has created flight jet powered suit that will be priced at about ã¢ââ¹1 3 crore the suit has custom built exoskeleton with six attached micro jet engines fuelled by kerosene from backpack browning claims the can travel at speed of up to 450 kmph \n",
      "Original summary: start startup makes ã¢ââ¹1 3 crore jet powered flying suit end \n",
      "Predicted summary:  start startup raises 1 million in series funding end\n",
      "\n",
      "\n",
      "Review: andhra pradesh chief minister chandrababu naidu on monday announced that his government will provide 100 units free power to most backward classes he added that the government would also give aid of up to ã¢ââ¹15 lakh to backward classes for foreign education we will spread out the poverty eradication program under pro basis he further said n \n",
      "Original summary: start most backward classes to get 100 units free power andhra cm end \n",
      "Predicted summary:  start govt to get ã¢ââ¹1 000 crore to pm modi end\n",
      "\n",
      "\n",
      "Review: taking dig at pm modi congress president rahul gandhi tweeted while our pm around his garden making yoga videos india leads afghanistan syria in rape violence against women this comes after thomson reuters foundation survey declared india as world most dangerous country for women pm modi shared video of himself doing yoga and other exercises last week \n",
      "Original summary: start pm modi makes yoga videos while india leads in rape rahul end \n",
      "Predicted summary:  start pm modi meets pm modi in pakistan end\n",
      "\n",
      "\n",
      "Review: external affairs minister sushma swaraj on saturday called upon the united nations to pass the comprehensive convention on international terrorism to end pakistan sponsored terrorism proposed by india in 1996 aims to arrive at universal definition of terrorism ban all terror groups prosecute terrorists under special laws and make cross border terrorism an offence \n",
      "Original summary: start india calls on un to pass global anti terror convention end \n",
      "Predicted summary:  start india to be part of pakistan in kashmir end\n",
      "\n",
      "\n",
      "Review: the 23 richest indians in the 500 member bloomberg billionaires index saw wealth erosion of 21 billion this year lakshmi mittal who controls the world largest steelmaker arcelormittal lost 5 6 billion or 29 of his net worth followed by sun pharma founder dilip shanghvi whose wealth declined 4 6 billion asia richest person mukesh ambani added 4 billion to his fortune \n",
      "Original summary: start lakshmi mittal lost 10 bn in 2018 ambani added 4 bn end \n",
      "Predicted summary:  start sensex hits record of the first time in india end\n",
      "\n",
      "\n",
      "Review: the haryana police have arrested 19 year old for killing 75 year old woman after attempting rape on her in village in the state the accused gagged the victim with scarf and hit brick on her head when she shouted for help the teenager mother then washed the blood from their house and outside to save him \n",
      "Original summary: start teen kills lady after rape attempt mother cleans blood to save him end \n",
      "Predicted summary:  start man arrested for raping minor girl in delhi end\n",
      "\n",
      "\n",
      "Review: a in pakistan has been jailed for 24 years for blackmailing and harassing nearly 200 lady doctors and nurses he introduced himself as military intelligence official according to the complainant who filed the case he was arrested in 2015 for hacking the whatsapp accounts of lady doctors blackmailing them with objectionable content and extorting money from them \n",
      "Original summary: start pak jailed for harassing 200 lady doctors nurses end \n",
      "Predicted summary:  start indian origin man jailed for sexually assaulting minor end\n",
      "\n",
      "\n",
      "Review: a doctor at andhra pradesh government hospital allegedly attacked the hospital superintendent with an injection containing hiv infected blood while the attempt to inject the infected blood was thwarted he managed to spray the blood on the senior dress the accused who said he only wanted to scare the superintendent was reportedly upset over being reprimanded by him \n",
      "Original summary: start andhra doc tries to senior with hiv infected blood end \n",
      "Predicted summary:  start man who killed in up after being hit by end\n",
      "\n",
      "\n",
      "Review: after congress vice president rahul gandhi slammed pm narendra modi while talking at the university of california party leader anand sharma backed him saying it justified to condemn prime minister in democracy if they bjp leaders think we ll ask them before making any statement they are wrong they should be prepared for this kind of attacks he added \n",
      "Original summary: start pm justified in democracy cong on rahul remark end \n",
      "Predicted summary:  start rahul gandhi is the pm modi on his birthday end\n",
      "\n",
      "\n",
      "Review: former england cricket team spinner ashley giles will succeed former captain andrew strauss as the managing director of england men cricket in january the ecb has confirmed tom harrison the chief executive described giles as the candidate amongst very strong field giles was part of england 2005 ashes winning team \n",
      "Original summary: start appointed director of cricket end \n",
      "Predicted summary:  start bcci to play cricket cricket cricket coach end\n",
      "\n",
      "\n",
      "Review: a case has been registered against raja chauhan for firing gunshots in violence during bharat bandh called by dalit groups in madhya pradesh gwalior on monday video showing chauhan alleged to be bjp worker firing during the protest had surfaced online of the 12 people killed during the nationwide protests at least three were from gwalior \n",
      "Original summary: start case filed man who fired in dalit protests end \n",
      "Predicted summary:  start up cm yogi booked for raping woman in up end\n",
      "\n",
      "\n",
      "Review: there are believed to be 80 different ways to spell the name of english playwright william shakespeare including and shakespeare is known to have signed his name using variations such as and due to no proper documentation april 23 is regarded as his birth date and april 23 as his death date \n",
      "Original summary: start there are 80 recorded ways to spell shakespeare end \n"
     ]
    },
    {
     "name": "stdout",
     "output_type": "stream",
     "text": [
      "Predicted summary:  start what is the of the world largest end\n",
      "\n",
      "\n",
      "Review: actor shahid kapoor while speaking about ranveer singh portrayal of alauddin khilji in the film padmaavat said he would have played the character differently we are two different actors and our style of acting is different he added earlier ranveer had said he would have played shahid character in the film better than shahid \n",
      "Original summary: start i would have played khilji differently shahid kapoor end \n",
      "Predicted summary:  start i am not to be part of salman khan end\n",
      "\n",
      "\n",
      "Review: minors cannot opt out of aadhaar after turning 18 year old since it not permissible under the aadhaar act uidai has told the supreme court they can lock their biometrics permanently and can unlock it temporarily if needed for biometric authentication further the sc was told the biometrics failure rate at the national level was 6 for fingerprints and 8 54 for iris \n",
      "Original summary: start minors can opt out of aadhaar after turning 18 uidai end \n",
      "Predicted summary:  start i t dept asks to give aadhaar to be probed end\n",
      "\n",
      "\n",
      "Review: producer ekta kapoor slammed karni sena threat that they will cut deepika padukone nose over the row on padmavati and asked aren we getting these jailed for open threats and attacks in the tweet she also wrote about an incident wherein people threw bottles at her at an event in jaipur over her tv series akbar \n",
      "Original summary: start aren those threatening deepika getting jailed asks ekta end \n",
      "Predicted summary:  start i am not to be part of my film on film end\n",
      "\n",
      "\n",
      "Review: talking about being ranked 7th on forbes list of world highest paid actors 2018 akshay kumar said it feels good but never take these lists too seriously they keep changing like seasons he further said the idea is only to do good better and best work but of course forever grateful when things like these come my way \n",
      "Original summary: start feels good akshay on being 7th highest paid actor end \n",
      "Predicted summary:  start i am not to be part of the film industry end\n",
      "\n",
      "\n",
      "Review: an indian origin couple was killed by their daughter ex boyfriend in an apparent revenge crime in the us on friday the 24 year old suspect mirza fatally shot naren prabhu silicon valley tech executive and his wife in san jose the police called the swat team after stand off with who was later killed after bullet hit him \n",
      "Original summary: start indian origin couple killed in revenge crime in us end \n",
      "Predicted summary:  start man kills wife for raping minor girl in us end\n",
      "\n",
      "\n",
      "Review: a 64 year old father and his 35 year old daughter flew their last flight together as british airways pilots on thursday david said he felt mixed emotions at retiring and was glad his daughter kat would continue their legacy the two had flown together numerous times and kat said she believed their father daughter bond helped them in the cockpit \n",
      "Original summary: start father and daughter fly last flight together as ba pilots end \n",
      "Predicted summary:  start man who lost me to get married to save him end\n",
      "\n",
      "\n",
      "Review: pakistan chief selector inzamam ul haq nephew imam ul haq collided with wicketkeeper brien and kane while completing single off ireland first ever test delivery on saturday debutant imam fell flat on his back after his head into brien hip while trying to make his crease uncle would ve just both fielders user tweeted reacting to the incident \n",
      "Original summary: start imam collides with two on ireland first test ball end \n",
      "Predicted summary:  start pak beat pakistan to win their cup for 1st time end\n",
      "\n",
      "\n",
      "Review: reacting to apple launch event on wednesday several users took to twitter saying dual sim they are really going after indians here tweet read the iphone xs max will come in smaller model ipad mini while another mocked weakening rupee against dollar saying apple watch series can detect fall someone make the rupee wear it \n",
      "Original summary: start dual sim they re going after indians twitter on new iphones end \n",
      "Predicted summary:  start google ceo tim cook to be in india end\n",
      "\n",
      "\n",
      "Review: pakistan on sunday rejected india request for consular access to kulbhushan jadhav for the time saying he is not an ordinary citizen pakistan foreign office claimed that he was sent by an indian intelligence agency and that he killed several innocent pakistanis jadhav was sentenced to death by pakistani military court in april on charges of espionage \n",
      "Original summary: start pak denies india consular access to kulbhushan for 18th time end \n",
      "Predicted summary:  start pak army chief resigns over pak army chief end\n",
      "\n",
      "\n",
      "Review: a 9 year old south african child has become only the third known case worldwide to show signs of aids virus long term remission without any drugs the child was given anti aids medicine for 10 months till the age of one which helped lower hiv levels from very high to the kid was then taken off drugs as part of trial \n",
      "Original summary: start 9 year old found to control hiv without any treatment end \n",
      "Predicted summary:  start woman who went to get married to get money to end\n",
      "\n",
      "\n",
      "Review: a 23 year old female finnish tourist was found dead at hotel in tamil nadu chennai on wednesday the police who retrieved drugs from the hotel room suspect that the woman died of drug overdose an investigation has been launched into the incident and the police are questioning the woman boyfriend \n",
      "Original summary: start finnish tourist found dead in tn drug overdose suspected end \n",
      "Predicted summary:  start man dies after being killed in delhi end\n",
      "\n",
      "\n",
      "Review: us president donald trump has told his south korean counterpart moon jae in that his country is open to talks with north korea at the appropriate time under the right circumstances trump also assured jae in that there would be no us military action against north korea as long as south korea is having dialogue with the reclusive nation \n",
      "Original summary: start us open to talk to north korea under right end \n",
      "Predicted summary:  start trump kim jong un to visit us summit in korea end\n",
      "\n",
      "\n",
      "Review: actress yami gautam has said rajkummar rao would have been amazing as the lead character vicky in the 2012 film vicky donor the character was originally portrayed by ayushmann khurrana who made his bollywood debut in the film while yami played the female lead when asked who would have played yami character well ayushmann had earlier taken bhumi pednekar name \n",
      "Original summary: start rajkummar would have been amazing as vicky in vicky donor yami end \n",
      "Predicted summary:  start kangana ranaut to star in upcoming film reports end\n",
      "\n",
      "\n",
      "Review: an east german secret police identity card belonging to russian president vladimir putin when he was soviet spy has been found in police archives in the city of dresden the card was issued in 1985 when putin was mid ranking soviet spy stationed in dresden in communist east germany which was then under russian occupation \n",
      "Original summary: start putin spy id card found in germany end \n",
      "Predicted summary:  start us president trump calls to be held for us end\n",
      "\n",
      "\n",
      "Review: bangladesh pm sheikh hasina has accused myanmar of finding new excuses to delay the return of over lakh rohingya muslims who fled myanmar to enter bangladesh over the past year adding that under no would the refugees remain permanently in bangladesh hasina said already have 16 crore people in my country can take any other burden \n",
      "Original summary: start myanmar delaying tactics blocking rohingya return desh end \n",
      "Predicted summary:  start pakistan to give up to pm modi end\n",
      "\n",
      "\n",
      "Review: surat police has issued summons to former gujarat bjp vice president jayanti bhanushali in connection with rape case against him 21 year old girl from surat has accused him of raping her multiple times since november 2017 after promising to get her admitted to fashion designing institute bhanushali resigned from his position following the rape accusation \n",
      "Original summary: start police ex gujarat bjp vice president in rape case end \n",
      "Predicted summary:  start bjp mla booked for raping woman in delhi end\n",
      "\n",
      "\n",
      "Review: technology giant google will reportedly prioritise articles in the search results from those publications which are subscribed by users the company will also start sharing search data that show the users which are most likely to buy subscription this is part of the technology giant efforts to help media companies find and retain paying readers \n",
      "Original summary: start google may prioritise stories for paid news subscribers end \n"
     ]
    },
    {
     "name": "stdout",
     "output_type": "stream",
     "text": [
      "Predicted summary:  start google to launch users to launch users in india end\n",
      "\n",
      "\n",
      "Review: india is model for peacefully resolving maritime disputes and strong provider of security us navy secretary richard spencer has said praising india for peacefully resolving maritime border dispute with the us in the indo pacific region the relationship between the us and india is based on our shared values and desire to preserve peace the us official added \n",
      "Original summary: start india model for maritime disputes us end \n",
      "Predicted summary:  start india will be india to be india china end\n",
      "\n",
      "\n",
      "Review: the archaeological site rani ki vav that features on the rear of new ã¢ââ¹100 notes is unesco world heritage site in gujarat patan the 11th century site is which was built by the solanki dynasty queen as memorial for her deceased husband in 2016 it was awarded the cleanest iconic place in india title \n",
      "Original summary: start what is the importance of rani ki featured on new ã¢ââ¹100 note end \n",
      "Predicted summary:  start mumbai to get its first ever ever end\n",
      "\n",
      "\n",
      "Review: the us has accused china of pointing military grade blinding lasers at its pilots in djibouti in nearly 10 such incidents in the past few weeks two us military pilots suffered minor eye injuries in one case officials said while the us has military base in djibouti since 2001 china opened its first overseas base in the region last year \n",
      "Original summary: start us accuses china of lasers at its pilots eyes end \n",
      "Predicted summary:  start us military approves us military amid strike end\n",
      "\n",
      "\n",
      "Review: a fake news update is being shared on whatsapp which claims that the government provides compensation in case of death due to accident it claims that if person dies in an accident and has been filing his income tax since the last three years the government will provide compensation equivalent to 10 times his average annual income \n",
      "Original summary: start news about money from government in accidental deaths fake end \n",
      "Predicted summary:  start cbi files fir against ex employee for stealing fake news end\n",
      "\n",
      "\n",
      "Review: sridevi starrer song hawa hawai from the 1987 film mr india has been recreated for vidya balan film tumhari sulu the vocals of kavita krishnamurthy who sang the original song have been retained and the new version has been recreated and programmed by tanishk bagchi directed by suresh triveni tumhari sulu is scheduled to release on november 17 \n",
      "Original summary: start hawa hawai recreated for tumhari sulu end \n",
      "Predicted summary:  start trailer of akshay kumar starrer released end\n",
      "\n",
      "\n",
      "Review: the us state department has approved the sale of 160 missiles to the united arab emirates for an estimated 2 billion over ã¢ââ¹12 800 crore the pentagon said on thursday describing uae as force for political stability in the middle east the pentagon stated this proposed sale will contribute to the foreign policy and national security of the united states \n",
      "Original summary: start us approves sale of missiles worth ã¢ââ¹12 800 crore to uae end \n",
      "Predicted summary:  start us imposes its first ever ever oil oil in india end\n",
      "\n",
      "\n",
      "Review: iran would not comply with the fully illegal us sanctions and would not discuss the volume or destination of its oil exports amidst the sanctions iranian oil minister zanganeh said on thursday the us sanctions targeting iran key economic sectors like oil and gas shipping and banking were imposed following the us withdrawal from the 2015 iran nuclear deal \n",
      "Original summary: start iran says it will not comply with illegal us sanctions end \n",
      "Predicted summary:  start iran to us sanctions on iran sanctions end\n",
      "\n",
      "\n",
      "Review: pornstar stormy daniels has been ordered to pay us president donald trump nearly 293 000 in legal fees and sanctions after her defamation suit against him was dismissed daniels alleges she was paid to hide her alleged affair with trump in 2016 she sued trump for defamation after he called her claims total con job in tweet \n",
      "Original summary: start pornstar stormy daniels ordered to pay trump 000 end \n",
      "Predicted summary:  start trump slams us over trump over fake news end\n",
      "\n",
      "\n",
      "Review: windies all rounder dwayne bravo compared team india and rcb captain virat kohli to footballer cristiano ronaldo admire the talent he has the passion and talent that he has for the sport and the way he plays bravo added notably ronaldo is champions league all time top goalscorer with 120 goals and is the leading scorer this season with 15 goals \n",
      "Original summary: start virat kohli is cristiano ronaldo of cricket dwayne bravo end \n",
      "Predicted summary:  start sachin tendulkar shares picture with his son end\n",
      "\n",
      "\n",
      "Review: singer ariana grande visited young children in hospital who were injured after blast at her concert in manchester uk in may the 23 year old singer presented t shirts and gifts to the young children ariana along with justin bieber miley cyrus and coldplay will perform on june to raise funds for the victims of the terrorist attack at the concert \n",
      "Original summary: start ariana grande visits kids injured after blast at her concert end \n",
      "Predicted summary:  start mumbai police rescue woman to death in mumbai end\n",
      "\n",
      "\n",
      "Review: a former uber manager robert miller had reportedly warned uberã¢ââs executives about safety issues before the fatal self driving car crash in arizona in march ã¢ââthe cars are routinely in accidents resulting in damage this is not how we should be operating ã¢ââ miller had said he added ã¢ââseveral of the drivers appear to not have been properly vetted or trained ã¢ââ \n",
      "Original summary: start ex uber exec warned staff before self driving crash report end \n",
      "Predicted summary:  start uber ceo sues google over self driving cars end\n",
      "\n",
      "\n",
      "Review: in chhattisgarh bharatpur assembly constituency village there are only four voters with three belonging to the same family to reach the forest village situated 15 kilometres away from the main road six kilometre rocky path and river have to be crossed the election officials will reach the village day before and erect tent for the voters \n",
      "Original summary: start chhattisgarh village has only voters from same family end \n",
      "Predicted summary:  start bjp leader announces ã¢ââ¹1 lakh for kerala floods end\n",
      "\n",
      "\n",
      "Review: aimim president asaduddin owaisi has said that no beef ban in three northeast states which will go to polls next year reflects dual standards and hypocrisy in up bjp is doing appeasement of hindutva forces he added his remark came after the bjp clarified that it will not impose beef ban in northeastern states if voted to power \n",
      "Original summary: start no beef ban in poll bound northeast shows owaisi end \n",
      "Predicted summary:  start will be in india if we are not bjp mp end\n",
      "\n",
      "\n",
      "Review: taking dig at bjp for its proposed rath yatra west bengal cm mamata banerjee on friday said that rath yatras are not carried out to kill people those who carry out yatras to kill common people indulge in yatras she added this comes after calcutta high court recently put stay on bjp rath yatra in the state \n",
      "Original summary: start rath yatras are not carried out to kill people wb cm end \n",
      "Predicted summary:  start bjp mla slams bjp for not to take up cm yogi end\n",
      "\n",
      "\n",
      "Review: a picture of russian mp natalya leaning against wall ahead of vladimir putin inauguration has gone viral reacting to the picture twitter user wrote current mood natalya other users tweeted am natalya at every party and maybe she was ordered to open and close the door \n",
      "Original summary: start pic of mp leaning against wall before putin oath goes viral end \n",
      "Predicted summary:  start video shows trump of trump over his sex abuse end\n",
      "\n",
      "\n",
      "Review: actor purab kohli has said that the release of films on fridays is like the appraisal period for actors just like employees in corporate offices have their annual appraisal period where they get nervous about what will happen with their salaries we actors too feel the first friday said purab he added that ultimately audience is the best judge \n",
      "Original summary: start friday releases are like period for actors end \n",
      "Predicted summary:  start i am not to be in the film industry salman end\n",
      "\n",
      "\n",
      "Review: a new trailer of the hindi version of deadpool has been released where ranveer singh is seen voicing ryan reynolds who plays the lead role of deadpool bollywood desi cool is india deadpool tweeted fox star india the distributors of the film in india earlier another trailer had been released which featured different voice artiste \n",
      "Original summary: start ranveer singh voices reynolds in deadpool hindi version end \n"
     ]
    },
    {
     "name": "stdout",
     "output_type": "stream",
     "text": [
      "Predicted summary:  start trailer of akshay kumar starrer released end\n",
      "\n",
      "\n",
      "Review: the archaeological survey of india asi has banned selfie sticks at its 46 site museums across the country including taj museum in agra and indian war memorial museum in delhi further the visitors would need to get permission for using flash multiple lenses and carrying large photography bags 15 days before the scheduled visit \n",
      "Original summary: start selfie sticks banned at 46 site across india end \n",
      "Predicted summary:  start mumbai to get its first ever train in india end\n",
      "\n",
      "\n",
      "Review: indian commodity exchange on monday commenced operations as the world first diamond futures exchange indian manufacturers most require this type of financial product md prasad said adding shall offer fair transparent and nationwide market bringing in large market participation into diamond trade the exchange is backed by companies like reliance capital and \n",
      "Original summary: start worldã¢ââs 1st diamond futures exchange starts trading in india end \n",
      "Predicted summary:  start india to invest in india in india report end\n",
      "\n",
      "\n",
      "Review: the us state department on thursday imposed sanctions against the chinese military for buying russian sukhoi su 35 fighter jets and s 400 air defence missile systems the us also blacklisted 33 people and entities associated with the russian intelligence china has called on the us to withdraw the sanctions or bear the consequences \n",
      "Original summary: start us sanctions china for buying russian jets missiles end \n",
      "Predicted summary:  start us imposes sanctions on iran over rohingya war end\n",
      "\n",
      "\n",
      "Review: the mumbai police on wednesday cancelled the conditional licences granted to the three of the city dance bars for failing to comply with fire safety norms the establishments didn respond to repeated show cause notices and failed to produce the required documents during the hearing police said in 2016 the supreme court had permitted these bars to operate after the ban \n",
      "Original summary: start licence of mumbai only three dance bars cancelled end \n",
      "Predicted summary:  start delhi police station to get married to get married end\n",
      "\n",
      "\n",
      "Review: congress president rahul gandhi has told party leaders to strengthen the organisation in such fashion that it is not candidate but the party that will fight the election party mp pl punia claimed state incharges have been told to identify the strong and weak booths while special attention is being given to shakti congress interaction platform for workers \n",
      "Original summary: start rahul told us party will fight polls not candidate cong mp end \n",
      "Predicted summary:  start bjp leader quits as bjp leader over rahul gandhi end\n",
      "\n",
      "\n",
      "Review: japanese conglomerate softbank is still considering if it should sell its reported 20 22 stake in indian e commerce startup flipkart to walmart as per reports softbank ceo masayoshi son will take call in the next 7 10 days the reports added softbank which invested 2 5 billion in flipkart last year would sell the stake for 4 billion reports had earlier suggested \n",
      "Original summary: start softbank still considering selling flipkart stake reports end \n",
      "Predicted summary:  start flipkart flipkart ceo may invest in flipkart end\n",
      "\n",
      "\n",
      "Review: the bjp has crossed the halfway mark leading in 112 seats in the ongoing karnataka assembly elections for 222 electoral constituencies while the congress is leading in 56 seats the jd has secured lead in 38 seats the voting for two constituencies was postponed due to candidate demise in jayanagar and the voter id row in rr nagar \n",
      "Original summary: start bjp crosses halfway mark leads in 112 seats in taka polls end \n",
      "Predicted summary:  start bjp mla announces ã¢ââ¹1 lakh for bjp mlas in gujarat end\n",
      "\n",
      "\n",
      "Review: kartik aaryan is coming today for live interactive session on huawei mate 20 pro touted in media reports as the king of smartphones at ambience mall gurugram pm onwards first buyer will get chance to the smartphone with kartik as while the next will get to take group selfie with him \n",
      "Original summary: start kartik aaryan comes to flag off offline strategy end \n",
      "Predicted summary:  start new zealand to get its first ever end\n",
      "\n",
      "\n",
      "Review: days after bjp and its allies sealed seat sharing arrangement in bihar ahead of 2019 lok sabha polls bjp mp gopal narayan singh said like all over india in bihar also our main brand is pm narendra modiji claiming both jd and bjp are equal partners singh added if bjp needs cm nitish kumar then he also needs bjp \n",
      "Original summary: start pm modi is our main brand in bihar says bjp mp end \n",
      "Predicted summary:  start bjp mla announces bjp mlas for bjp leader end\n",
      "\n",
      "\n",
      "Review: a mysterious carcass washed ashore an indonesian island suspected of being giant or elephant has been identified by experts us based biologist believes the bloodied creature was decomposing whale other scientists agreed that the remains of plates most likely belonged to the whale indonesia marine authorities said to carry sample to confirm its identity \n",
      "Original summary: start dead sea washed up on indonesian coast identified end \n",
      "Predicted summary:  start video shows us train found in mumbai end\n",
      "\n",
      "\n",
      "Review: a farmer in karnataka has filed complaint against bjp workers for allegedly destroying his farmland for constructing helipad for party president amit shah he claimed the bjp workers had entered the land forcefully and abused him when he questioned them bjp spokesperson prakash said that any high handedness by local leaders will be looked into \n",
      "Original summary: start farmer claims bjp workers destroyed land for shah end \n",
      "Predicted summary:  start bjp mla booked for raping bjp leader in up end\n",
      "\n",
      "\n",
      "Review: the supreme court has banned all construction activities in maharashtra madhya pradesh uttarakhand and chandigarh till october the interim order came after the states and the union territory failed to comply with the court order to come up with policy on solid waste management the attitude of the states union territories is pathetic to say the least the court said \n",
      "Original summary: start sc bans construction in maharashtra mp uttarakhand end \n",
      "Predicted summary:  start sc rejects plea to hear plea to ban on cow slaughter end\n",
      "\n",
      "\n",
      "Review: mumbai based startup taxi fabric co founder has been accused by his former colleague swapna nair of sending her ck pics even after she asked him not to send them he repeatedly kept talking about how my dark skin would make him hard instantly said swapna tried to change the conversation but it was impossible without his ck interrupting she added \n",
      "Original summary: start taxi fabric founder accused of sending ck pics to ex colleague end \n",
      "Predicted summary:  start i was the first woman to be held for sexual harassment end\n",
      "\n",
      "\n",
      "Review: after passenger who travelled in air india newark mumbai flight complained of bed bugs in their business class seats the airline claimed may have happened due to the current weather conditions apologising for the inconvenience air india also offered to refund 75 of the passenger fare the passenger had tweeted photo of bite marks all over her arm \n",
      "Original summary: start air india blames weather for bed bugs in business class end \n",
      "Predicted summary:  start jet airways flight gets stuck in delhi airport end\n",
      "\n",
      "\n",
      "Review: the bombay high court on monday accepted maharashtra government proposal that it wouldn allow children below 14 years of age to participate in the dahi handi festival which witnesses several injuries to youngsters however the bench refused to impose any restriction on the height of human pyramid formations during the festival notably since 2014 children below 18 years weren allowed \n",
      "Original summary: start hc accepts maha govt 14 yrs age restriction for dahi handi end \n",
      "Predicted summary:  start hc orders notice to death penalty for not paying to end\n",
      "\n",
      "\n",
      "Review: the rajasthan high court has issued notice to the centre asking why condom advertisements cannot be shown on tv between am and 10 pm the court was hearing petition filed by nonprofit organisation which has called the order arbitrary and meaningless earlier this month the ministry had issued an advisory restricting timings of condom ads \n",
      "Original summary: start raj hc issues notice to centre over condom ads restrictions end \n"
     ]
    },
    {
     "name": "stdout",
     "output_type": "stream",
     "text": [
      "Predicted summary:  start sc rejects plea to ban on triple talaq bill end\n",
      "\n",
      "\n",
      "Review: an 80 year old woman threw coins into the engine of plane at shanghai airport for good luck on tuesday all 150 passengers were evacuated and the flight was delayed for nearly six hours after one of the nine coins she threw entered the engine the woman has been exempted from jail because she is aged over 70 the police said \n",
      "Original summary: start woman throws coins into plane engine for luck delays flight end \n",
      "Predicted summary:  start man held for stealing gold in mumbai airport end\n",
      "\n",
      "\n",
      "Review: actress margot best known for playing the role of lois lane in the superman film franchise of the 1970s and 1980s passed away on sunday at the age of 69 an autopsy will be performed to determine the cause of her death margot who suffered from car accident in 1990 had experienced long term mental health issues \n",
      "Original summary: start actress who portrayed lane in superman film passes away end \n",
      "Predicted summary:  start mumbai police to get married to get married in mumbai end\n",
      "\n",
      "\n",
      "Review: zaheer khan fiancãâ actor sagarika ghatge posted picture on instagram of the couple in which zaheer new clean look sagarika captioned the picture came back home to this stranger doing rather well cricketers including ravindra jadeja hardik pandya rohit sharma and ajinkya rahane also posted selfies on instagram earlier \n",
      "Original summary: start zaheer broke the beard rather well says fiancãâ sagarika end \n",
      "Predicted summary:  start mumbai actor passes away at mumbai end\n",
      "\n",
      "\n",
      "Review: for the first time bcci anti corruption unit has restricted cricketers from meeting outsiders in private during the two ipl matches on may 10 and 13 in kanpur players will only be allowed to interact with outsiders in the presence of the hotel manager in the lobby additionally phone records of players and franchise owners would be checked daily \n",
      "Original summary: start players barred from meeting outsiders during ipl end \n",
      "Predicted summary:  start india to be india to be held for indian team end\n",
      "\n",
      "\n",
      "Review: kareena kapoor has said that shah rukh khan is india biggest romantic hero when you go to any corner of the world when you say india the first thing that comes to your mind is shah rukh khan she added kareena further said he has touched people lives with his roles his passion his genuine love and his charm \n",
      "Original summary: start shah rukh khan is india biggest romantic hero kareena end \n",
      "Predicted summary:  start i am not to be part of the film akshay kumar end\n",
      "\n",
      "\n",
      "Review: aligarh mayor mohammed on wednesday confessed that he did not remember the national anthem completely but that he respected it listen to the national anthem every day stand and pay respect to it he added reporters had asked to recite the national anthem after addressing his first press conference after assuming charge as the city mayor \n",
      "Original summary: start don remember the national anthem completely aligarh mayor end \n",
      "Predicted summary:  start i am not to be able to get my life gambhir end\n",
      "\n",
      "\n",
      "Review: reacting to kylie jenner naming her baby stormi webster twitter user wrote if ever have child ll be naming it north chicago storm weather forecast commented another user while referring to north and chicago the daughters of kylie half sister kim kardashian another tweet read it wasn going to be called something boring like brenda \n",
      "Original summary: start will name kid tweets user on kylie naming kid end \n",
      "Predicted summary:  start i am the first time to be like an actor end\n",
      "\n",
      "\n",
      "Review: the union home ministry has warned that threat to prime minister narendra modi is at an all time high the home ministry has laid down security protocol which includes even ministers and officers to be cleared by special protection group spg staff before they can come close to pm modi this comes after maharashtra police seized documents mentioning rajiv gandhi type incident \n",
      "Original summary: to pm at all time high even ministers need clearance to meet him end \n",
      "Predicted summary:  start pm modi inaugurates new zealand of pm modi end\n",
      "\n",
      "\n",
      "Review: the pakistan cricket board welcomed ab de villiers to the pakistan super league with tweet that read the goat from south africa is now part of psl warm welcome to the former south african international announced his arrival with video captioned it time for so there going to be party in february \n",
      "Original summary: start goat now part of psl pcb welcomes ab de villiers to psl end \n",
      "Predicted summary:  start pak player who is the india to be awarded india end\n",
      "\n",
      "\n",
      "Review: us senator elizabeth warren has proposed new wealth tax which would cost the world richest person jeff bezos 4 1 billion in the first year warren proposed wealth tax of 2 on americans with assets above 50 million and 3 on all fortunes above 1 billion almost all of bezos 137 1 billion wealth is tied up in amazon stock \n",
      "Original summary: start us senator proposes new tax that would cost bezos in first year end \n",
      "Predicted summary:  start india to invest in india in india report end\n",
      "\n",
      "\n",
      "Review: producers of john abraham and diana penty starrer parmanu the story of pokhran have announced its release date as march clashing with anushka sharma pari there are 000 theatres so it not about clashing for me it like bringing two films of different genres together the co producer of both the films prernaa arora said \n",
      "Original summary: start john starrer parmanu to clash with anushka pari end \n",
      "Predicted summary:  start trailer of rajkummar rao starrer released end\n",
      "\n",
      "\n",
      "Review: a nasa backed study has found tremendous amounts of soot lofted into air from global wildfires following the dinosaur killing asteroid strike 66 million years ago would have plunged earth into darkness for nearly two years this would have shut down photosynthesis and drastically cooled the planet leading to mass extinction of three of species on earth back then the study added \n",
      "Original summary: start dino killing asteroid might have brought years of end \n",
      "Predicted summary:  start nasa unveils first ever ever ever ever ever end\n",
      "\n",
      "\n",
      "Review: terror attacks persist in jammu and kashmir despite prime minister narendra modi threats to pakistan for being lenient towards terror outfits an editorial in shiv sena mouthpiece saamana has said refuting the centre assurance regarding the situation being under control at the india pakistan border the editorial said the area was still \n",
      "Original summary: start terror attacks in despite pm modi threat sena end \n",
      "Predicted summary:  start pakistan pm modi to be in india in pakistan end\n",
      "\n",
      "\n",
      "Review: nagaland under 19 girls team was dismissed for two runs in 17 overs while playing against kerala in the ongoing bcci women under 19 one day league on friday nagaland opener top scored for the team with run while the other run came off an extra kerala hit boundary on the first ball winning with 299 balls to spare \n",
      "Original summary: start nagaland team all out for runs rivals win on 1st ball end \n",
      "Predicted summary:  start india beat pakistan to win their highest test in test end\n",
      "\n",
      "\n",
      "Review: the cemetery in city slovenia has unveiled tombstones with 48 inch interactive screens that can show pictures videos and other digital content the company claims the tombstones are weather proof and cannot be vandalised the tombstones which cost ã¢ââ¬3 000 ã¢ââ¹2 lakh each activate their sensors when someone stands near them \n",
      "Original summary: start cemetery gets digital that can play videos end \n",
      "Predicted summary:  start startup makes new york to make users end\n",
      "\n",
      "\n",
      "Review: terming congress allegations of corruption in the rafale deal as manufactured union minister of state for defence subhash bhamre on thursday said don try to fool people as they are educated enough he added there have been numerous scams during congress rule and the pm modi led government made sure there were no big scams in these last years \n",
      "Original summary: start don try to fool people govt to congress over rafale deal end \n",
      "Predicted summary:  start cong has no longer to be in india pm modi end\n",
      "\n",
      "\n",
      "Review: indo canadian youtube star lilly singh also known as superwoman said if you watch something and it makes you laugh great if it doesn that comedy isn wrong it just not suitable for you calling comedy very lilly added the best thing you can do is promote what you love and not bash what you hate \n",
      "Original summary: start if it doesn make you laugh that comedy isn wrong end \n"
     ]
    },
    {
     "name": "stdout",
     "output_type": "stream",
     "text": [
      "Predicted summary:  start i am not to be like the first time end\n",
      "\n",
      "\n",
      "Review: scientists have discovered the fossils of an elephant sized mammal that lived alongside dinosaurs during the triassic period about 200 million years ago named the four legged creature belonged to group of mammal like reptiles called we think itã¢ââs one of the most unexpected fossil discoveries from the triassic of europe one of the scientists said \n",
      "Original summary: start fossils of like reptile that lived with dinosaurs found end \n",
      "Predicted summary:  start scientists find earth in the first ever end\n",
      "\n",
      "\n",
      "Review: the german parliament lower house has approved draft law that partially bans the full face islamic veil for public servants including election officials military and judicial staff while at work the law however allows exceptions such as for health workers protecting themselves against infections or police officers concealing their identity it will now go to the upper house for approval \n",
      "Original summary: start german parliament approves partial ban on islamic veil end \n",
      "Predicted summary:  start uk govt bans ban on rohingya violence end\n",
      "\n",
      "\n",
      "Review: manchester united players including paul pogba marouane fellaini and juan mata met game of thrones actors john bradley west and joe during the team pre season training camp in los angeles john who plays and joe who plays also met josãâ mourinho and posed with united europa league trophy john sported the team away jersey during the interaction \n",
      "Original summary: start manchester united players meet game of thrones actors in usa end \n",
      "Predicted summary:  start player who was the first ever player in the world cup end\n",
      "\n",
      "\n",
      "Review: former apple executive neha rastogi who accused her husband and ceo abhishek gattani of domestic abuse has disclosed audio recordings of gattani abusing and beating her in court statement rastogi said he hit me multiple times on my face arms head belly and abused me gattani was allowed plea agreement and faces 30 days in jail \n",
      "Original summary: start ex apple engineer says husband abused hit her several times end \n",
      "Predicted summary:  start uber ceo accused of sexual harassment by sexual harassment end\n",
      "\n",
      "\n",
      "Review: former ufc fighter tim hague has passed away aged 34 after suffering knockout in boxing fight the canadian mixed martial artist was taken to hospital on friday after being knocked out by adam but died on sunday hague fought 34 mixed martial arts contests in his career including five ufc fights and held an overall 21 13 record \n",
      "Original summary: start former ufc fighter dies after in boxing fight end \n",
      "Predicted summary:  start video shows man who died in mumbai end\n",
      "\n",
      "\n",
      "Review: rape convict ram rahim singh adopted daughter honeypreet insan has denied claims of having sexual relationship with her father canã¢âât father put his hand on his head isnã¢âât the father daughter relation sacred relation she questioned honeypreet who is on haryana most wanted list further denied claims of absconding after ram rahim conviction \n",
      "Original summary: start can father touch daughter head asks honeypreet end \n",
      "Predicted summary:  start lalu son son booked for raping minor girl in up end\n",
      "\n",
      "\n",
      "Review: talking about modern startup investing silicon valley investor has said we are in the middle of an enormous multi kind of ponzi scheme adding that the investors pressurise the startups to do well he also said they investors aren people writing cheques out of their own balance sheet these are people doing job with other people money \n",
      "Original summary: start startup investing is ponzi scheme silicon valley investor end \n",
      "Predicted summary:  start tesla ceo quits as startup raises 1 million end\n",
      "\n",
      "\n",
      "Review: former india cricketer sachin tendulkar paid surprise visit to child care centre in mumbai dressed as santa claus on the occasion of christmas on tuesday sachin spent time with the underprivileged children gave them gifts and also played cricket with them the joy on their innocent faces was just priceless he tweeted \n",
      "Original summary: start sachin dresses up as santa claus surprises underprivileged kids end \n",
      "Predicted summary:  start mumbai police to get married to get married to end\n",
      "\n",
      "\n",
      "Review: four sisters were among the 20 killed when limousine crashed into another vehicle in new york in the deadliest transportation accident in the us since 2009 three of the sisters were accompanied by their husbands who also died in the accident you can wrap your head around such tragedy relative of the sisters said \n",
      "Original summary: start 4 sisters among 20 killed in crash in new york end \n",
      "Predicted summary:  start 2 killed as bus rams into truck in afghanistan end\n",
      "\n",
      "\n",
      "Review: the madhya pradesh high court has said that the cases related to the vyapam scam will be heard by seven special courts in four major cities of the state earlier the cases were being heard in 16 special courts notably more than 40 people associated with the scam have died under mysterious circumstances since the story broke in 2013 \n",
      "Original summary: start vyapam scam cases to be heard by seven special courts hc end \n",
      "Predicted summary:  start sc orders notice to death penalty for raping minor end\n",
      "\n",
      "\n",
      "Review: cars24 has enabled car owners to sell their cars in less than hours with instant payment in their account the company also handles all paperwork including rc transfer cars24 has over 97 branches across 17 cities pan india and having bought over lakh cars in years it has become the market leader in used car transaction space \n",
      "Original summary: start enables car owners to sell their cars in less than hours end \n",
      "Predicted summary:  start uber driver sues for selling car to buy car end\n",
      "\n",
      "\n",
      "Review: the hearing to decide the quantum of punishment to dera chief gurmeet ram rahim singh will take place through video conferencing on august 28 panchkula cbi court had convicted singh on charges of rape on friday as per reports the punishment can be jail term not less than seven years but may even extend to life imprisonment \n",
      "Original summary: start ram rahim to get rape punishment through video conference end \n",
      "Predicted summary:  start i am not to be held for kerala hc end\n",
      "\n",
      "\n",
      "Review: us defence research agency darpa has launched persistent aquatic living sensors program that will study the viability of using both natural and modified sea organisms to detect underwater vehicles the system would aim to translate the biological responses of sea life into usable data to warn ships without needing hardware that could alert the enemy of its detection \n",
      "Original summary: start us military using sea life to spot threats end \n",
      "Predicted summary:  start us to use new of us to use of end\n",
      "\n",
      "\n",
      "Review: kidambi srikanth and pv sindhu india top ranked male and female shuttlers respectively were knocked out of the bwf china open tournament in the quarterfinal stage on friday srikanth was beaten by japan kento momota in straight games while sindhu lost to china chen yufei with scoreline that read 11 21 21 11 15 21 \n",
      "Original summary: start sindhu srikanth both knocked out in china open end \n",
      "Predicted summary:  start india wins world cup final for 1st time in india end\n",
      "\n",
      "\n",
      "Review: delhi daredevils batsman shreyas iyer said that coach ricky ponting speech on their first day of training gave the team members goosebumps iyer who also compared the coaching styles of former dd coach rahul dravid and ponting said dravid is calm and cool he likes to follow the process and nurture the kids \n",
      "Original summary: start coach ponting speech gave us dd player iyer end \n",
      "Predicted summary:  start bcci to play ipl cricket for ipl 2018 end\n",
      "\n",
      "\n",
      "Review: a man in uttar pradesh lucknow built drone in hours to rescue puppy after he saw it drowning in drain the man who makes robots for living assembled an ai controlled robotic arm and attached it to the drone he said that initially he asked people for help but they advised him to let it die \n",
      "Original summary: start lucknow techie builds drone in hrs to save drowning puppy end \n",
      "Predicted summary:  start man who lost up to death in mumbai end\n",
      "\n",
      "\n"
     ]
    }
   ],
   "source": [
    "for i in range(0,100):\n",
    "    print(\"Review:\",seq2text(x_tr[i]))\n",
    "    print(\"Original summary:\",seq2summary(y_tr[i]))\n",
    "    print(\"Predicted summary:\",decode_sequence(x_tr[i].reshape(1,max_text_len)))\n",
    "    print(\"\\n\")"
   ]
  },
  {
   "cell_type": "code",
   "execution_count": 60,
   "metadata": {},
   "outputs": [
    {
     "name": "stdout",
     "output_type": "stream",
     "text": [
      "Model: \"functional_1\"\n",
      "__________________________________________________________________________________________________\n",
      "Layer (type)                    Output Shape         Param #     Connected to                     \n",
      "==================================================================================================\n",
      "input_1 (InputLayer)            [(None, 100)]        0                                            \n",
      "__________________________________________________________________________________________________\n",
      "embedding (Embedding)           (None, 100, 200)     6682400     input_1[0][0]                    \n",
      "__________________________________________________________________________________________________\n",
      "lstm (LSTM)                     [(None, 100, 300), ( 601200      embedding[0][0]                  \n",
      "__________________________________________________________________________________________________\n",
      "input_2 (InputLayer)            [(None, None)]       0                                            \n",
      "__________________________________________________________________________________________________\n",
      "lstm_1 (LSTM)                   [(None, 100, 300), ( 721200      lstm[0][0]                       \n",
      "__________________________________________________________________________________________________\n",
      "embedding_1 (Embedding)         (None, None, 200)    2316200     input_2[0][0]                    \n",
      "__________________________________________________________________________________________________\n",
      "lstm_2 (LSTM)                   [(None, 100, 300), ( 721200      lstm_1[0][0]                     \n",
      "__________________________________________________________________________________________________\n",
      "lstm_3 (LSTM)                   [(None, None, 300),  601200      embedding_1[0][0]                \n",
      "                                                                 lstm_2[0][1]                     \n",
      "                                                                 lstm_2[0][2]                     \n",
      "__________________________________________________________________________________________________\n",
      "time_distributed (TimeDistribut (None, None, 11581)  3485881     lstm_3[0][0]                     \n",
      "==================================================================================================\n",
      "Total params: 15,129,281\n",
      "Trainable params: 15,129,281\n",
      "Non-trainable params: 0\n",
      "__________________________________________________________________________________________________\n"
     ]
    }
   ],
   "source": [
    "model.summary()"
   ]
  },
  {
   "cell_type": "code",
   "execution_count": 65,
   "metadata": {},
   "outputs": [
    {
     "name": "stdout",
     "output_type": "stream",
     "text": [
      "['I am Jigar Joshi, Third year computer science engineering student at an engineering college Mumbai. I am staying in Nashik and doing my current internship at vesatogo solutions']\n"
     ]
    }
   ],
   "source": [
    "import pickle\n",
    "with open('tokenizer.pickle', 'rb') as handle:\n",
    "    tokenizer = pickle.load(handle)\n",
    "\n",
    "print(x_tr)"
   ]
  },
  {
   "cell_type": "code",
   "execution_count": 66,
   "metadata": {},
   "outputs": [],
   "source": [
    "x_tr_seq    =   tokenizer.texts_to_sequences(x_tr) \n",
    "\n",
    "#padding zero upto maximum length\n",
    "x_tr    =   pad_sequences(x_tr_seq,  maxlen=10, padding='post')"
   ]
  },
  {
   "cell_type": "code",
   "execution_count": 67,
   "metadata": {},
   "outputs": [
    {
     "ename": "NameError",
     "evalue": "name 'encoder_model' is not defined",
     "output_type": "error",
     "traceback": [
      "\u001b[0;31m---------------------------------------------------------------------------\u001b[0m",
      "\u001b[0;31mNameError\u001b[0m                                 Traceback (most recent call last)",
      "\u001b[0;32m<ipython-input-67-f0278870c9fd>\u001b[0m in \u001b[0;36m<module>\u001b[0;34m\u001b[0m\n\u001b[0;32m----> 1\u001b[0;31m \u001b[0mdecode_sequence\u001b[0m\u001b[0;34m(\u001b[0m\u001b[0mx_tr\u001b[0m\u001b[0;34m[\u001b[0m\u001b[0;36m0\u001b[0m\u001b[0;34m]\u001b[0m\u001b[0;34m.\u001b[0m\u001b[0mreshape\u001b[0m\u001b[0;34m(\u001b[0m\u001b[0;36m1\u001b[0m\u001b[0;34m,\u001b[0m\u001b[0;36m10\u001b[0m\u001b[0;34m)\u001b[0m\u001b[0;34m)\u001b[0m\u001b[0;34m\u001b[0m\u001b[0;34m\u001b[0m\u001b[0m\n\u001b[0m\u001b[1;32m      2\u001b[0m \u001b[0;34m\u001b[0m\u001b[0m\n",
      "\u001b[0;32m<ipython-input-40-219f1da445c8>\u001b[0m in \u001b[0;36mdecode_sequence\u001b[0;34m(input_seq)\u001b[0m\n\u001b[1;32m      1\u001b[0m \u001b[0;32mdef\u001b[0m \u001b[0mdecode_sequence\u001b[0m\u001b[0;34m(\u001b[0m\u001b[0minput_seq\u001b[0m\u001b[0;34m)\u001b[0m\u001b[0;34m:\u001b[0m\u001b[0;34m\u001b[0m\u001b[0;34m\u001b[0m\u001b[0m\n\u001b[1;32m      2\u001b[0m     \u001b[0;31m# Encode the input as state vectors.\u001b[0m\u001b[0;34m\u001b[0m\u001b[0;34m\u001b[0m\u001b[0;34m\u001b[0m\u001b[0m\n\u001b[0;32m----> 3\u001b[0;31m     \u001b[0me_out\u001b[0m\u001b[0;34m,\u001b[0m \u001b[0me_h\u001b[0m\u001b[0;34m,\u001b[0m \u001b[0me_c\u001b[0m \u001b[0;34m=\u001b[0m \u001b[0mencoder_model\u001b[0m\u001b[0;34m.\u001b[0m\u001b[0mpredict\u001b[0m\u001b[0;34m(\u001b[0m\u001b[0minput_seq\u001b[0m\u001b[0;34m)\u001b[0m\u001b[0;34m\u001b[0m\u001b[0;34m\u001b[0m\u001b[0m\n\u001b[0m\u001b[1;32m      4\u001b[0m \u001b[0;34m\u001b[0m\u001b[0m\n\u001b[1;32m      5\u001b[0m     \u001b[0;31m# Generate empty target sequence of length 1.\u001b[0m\u001b[0;34m\u001b[0m\u001b[0;34m\u001b[0m\u001b[0;34m\u001b[0m\u001b[0m\n",
      "\u001b[0;31mNameError\u001b[0m: name 'encoder_model' is not defined"
     ]
    }
   ],
   "source": [
    "decode_sequence(x_tr[0].reshape(1,10))\n",
    "\n"
   ]
  },
  {
   "cell_type": "code",
   "execution_count": 63,
   "metadata": {},
   "outputs": [
    {
     "ename": "TypeError",
     "evalue": "cannot pickle '_thread.RLock' object",
     "output_type": "error",
     "traceback": [
      "\u001b[0;31m---------------------------------------------------------------------------\u001b[0m",
      "\u001b[0;31mTypeError\u001b[0m                                 Traceback (most recent call last)",
      "\u001b[0;32m<ipython-input-63-7a31c3eaf0ff>\u001b[0m in \u001b[0;36m<module>\u001b[0;34m\u001b[0m\n\u001b[1;32m      1\u001b[0m \u001b[0;32mimport\u001b[0m \u001b[0mpickle\u001b[0m\u001b[0;34m\u001b[0m\u001b[0;34m\u001b[0m\u001b[0m\n\u001b[0;32m----> 2\u001b[0;31m \u001b[0mpickle\u001b[0m\u001b[0;34m.\u001b[0m\u001b[0mdump\u001b[0m\u001b[0;34m(\u001b[0m\u001b[0mmodel\u001b[0m\u001b[0;34m,\u001b[0m\u001b[0mopen\u001b[0m\u001b[0;34m(\u001b[0m\u001b[0;34m'model01.pb'\u001b[0m\u001b[0;34m,\u001b[0m\u001b[0;34m'wb'\u001b[0m\u001b[0;34m)\u001b[0m\u001b[0;34m)\u001b[0m\u001b[0;34m\u001b[0m\u001b[0;34m\u001b[0m\u001b[0m\n\u001b[0m",
      "\u001b[0;31mTypeError\u001b[0m: cannot pickle '_thread.RLock' object"
     ]
    }
   ],
   "source": [
    "import pickle\n",
    "pickle.dump(model,open('model01.pb','wb'))"
   ]
  },
  {
   "cell_type": "code",
   "execution_count": 66,
   "metadata": {},
   "outputs": [
    {
     "name": "stdout",
     "output_type": "stream",
     "text": [
      "WARNING:tensorflow:From /home/vltp005/.pyenv/versions/3.8.6/lib/python3.8/site-packages/tensorflow/python/training/tracking/tracking.py:111: Model.state_updates (from tensorflow.python.keras.engine.training) is deprecated and will be removed in a future version.\n",
      "Instructions for updating:\n",
      "This property should not be used in TensorFlow 2.0, as updates are applied automatically.\n",
      "WARNING:tensorflow:From /home/vltp005/.pyenv/versions/3.8.6/lib/python3.8/site-packages/tensorflow/python/training/tracking/tracking.py:111: Layer.updates (from tensorflow.python.keras.engine.base_layer) is deprecated and will be removed in a future version.\n",
      "Instructions for updating:\n",
      "This property should not be used in TensorFlow 2.0, as updates are applied automatically.\n",
      "INFO:tensorflow:Assets written to: model02.sav/assets\n"
     ]
    }
   ],
   "source": [
    "model.save('model02.sav')"
   ]
  },
  {
   "cell_type": "code",
   "execution_count": null,
   "metadata": {},
   "outputs": [],
   "source": []
  }
 ],
 "metadata": {
  "kernelspec": {
   "display_name": "Python 3",
   "language": "python",
   "name": "python3"
  },
  "language_info": {
   "codemirror_mode": {
    "name": "ipython",
    "version": 3
   },
   "file_extension": ".py",
   "mimetype": "text/x-python",
   "name": "python",
   "nbconvert_exporter": "python",
   "pygments_lexer": "ipython3",
   "version": "3.8.6"
  }
 },
 "nbformat": 4,
 "nbformat_minor": 1
}
