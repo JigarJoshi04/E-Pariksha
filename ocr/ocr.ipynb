{
 "cells": [
  {
   "cell_type": "code",
   "execution_count": 5,
   "metadata": {},
   "outputs": [],
   "source": [
    "import numpy as np\n",
    "import cv2\n",
    "import os\n",
    "import pytesseract \n",
    "from PIL import Image"
   ]
  },
  {
   "cell_type": "code",
   "execution_count": 6,
   "metadata": {},
   "outputs": [],
   "source": [
    "path = \"/home/vaibhav/Downloads/Text-Extraction-From-Image-master/set10/16.png\""
   ]
  },
  {
   "cell_type": "code",
   "execution_count": 7,
   "metadata": {},
   "outputs": [],
   "source": [
    "def ocr(path):\n",
    "    \n",
    "    # Load an color image in grayscale\n",
    "    img = cv2.imread(path,1)\n",
    "    image = cv2.cvtColor(img, cv2.COLOR_BGR2GRAY)\n",
    "    text = pytesseract.image_to_string(image) \n",
    "    \n",
    "    return text"
   ]
  },
  {
   "cell_type": "code",
   "execution_count": 8,
   "metadata": {},
   "outputs": [
    {
     "name": "stdout",
     "output_type": "stream",
     "text": [
      "Join us for a full weekend of activities!\n",
      "\n",
      "Spa at 3pm Golf at 7am Brunch at Noon\n",
      "Lorem ipsum dolor sit Ut enim ad minim veniam, Lorem ipsum dolor sit\n",
      "amet, consectetur quis nostrud exercitation amet, consectetur\n",
      "adipiscing elit, sed do ullamco laboris nisi ut adipiscing elit,\n",
      "elusmod tempor incididunt __ aliquip ex ea commodo\n",
      "\n",
      "ut labore et dolore magna consequat.\n",
      "\n",
      "aliqua.\n",
      "\f",
      "\n"
     ]
    }
   ],
   "source": [
    "print(ocr(path))"
   ]
  },
  {
   "cell_type": "code",
   "execution_count": null,
   "metadata": {},
   "outputs": [],
   "source": []
  }
 ],
 "metadata": {
  "kernelspec": {
   "display_name": "Python 3",
   "language": "python",
   "name": "python3"
  },
  "language_info": {
   "codemirror_mode": {
    "name": "ipython",
    "version": 3
   },
   "file_extension": ".py",
   "mimetype": "text/x-python",
   "name": "python",
   "nbconvert_exporter": "python",
   "pygments_lexer": "ipython3",
   "version": "3.8.3"
  }
 },
 "nbformat": 4,
 "nbformat_minor": 4
}
